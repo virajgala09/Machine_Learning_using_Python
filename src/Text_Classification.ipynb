{
 "cells": [
  {
   "cell_type": "code",
   "execution_count": 5,
   "metadata": {
    "scrolled": true
   },
   "outputs": [],
   "source": [
    "import pandas as pd\n",
    "\n",
    "from sklearn.feature_extraction.text import TfidfVectorizer\n",
    "from sklearn.linear_model import SGDClassifier\n",
    "from sklearn.pipeline import Pipeline\n",
    "from sklearn.metrics import confusion_matrix, classification_report, accuracy_score\n",
    "from sklearn import model_selection, svm\n",
    "from sklearn.preprocessing import LabelEncoder"
   ]
  },
  {
   "cell_type": "code",
   "execution_count": 6,
   "metadata": {},
   "outputs": [
    {
     "data": {
      "text/html": [
       "<div>\n",
       "<style scoped>\n",
       "    .dataframe tbody tr th:only-of-type {\n",
       "        vertical-align: middle;\n",
       "    }\n",
       "\n",
       "    .dataframe tbody tr th {\n",
       "        vertical-align: top;\n",
       "    }\n",
       "\n",
       "    .dataframe thead th {\n",
       "        text-align: right;\n",
       "    }\n",
       "</style>\n",
       "<table border=\"1\" class=\"dataframe\">\n",
       "  <thead>\n",
       "    <tr style=\"text-align: right;\">\n",
       "      <th></th>\n",
       "      <th>sentence</th>\n",
       "      <th>label</th>\n",
       "    </tr>\n",
       "  </thead>\n",
       "  <tbody>\n",
       "    <tr>\n",
       "      <td>154</td>\n",
       "      <td>\" If Google do not secure the content writer s...</td>\n",
       "      <td>Risk</td>\n",
       "    </tr>\n",
       "    <tr>\n",
       "      <td>190</td>\n",
       "      <td>\" If customer is forced to keep Microsoft out ...</td>\n",
       "      <td>Risk</td>\n",
       "    </tr>\n",
       "    <tr>\n",
       "      <td>114</td>\n",
       "      <td>\" If Google deploy the project late due to our...</td>\n",
       "      <td>Risk</td>\n",
       "    </tr>\n",
       "    <tr>\n",
       "      <td>138</td>\n",
       "      <td>\" If they is forced to keep Microsoft out of t...</td>\n",
       "      <td>Risk</td>\n",
       "    </tr>\n",
       "    <tr>\n",
       "      <td>67</td>\n",
       "      <td>\" Drew White decide to include an additional s...</td>\n",
       "      <td>Decision</td>\n",
       "    </tr>\n",
       "  </tbody>\n",
       "</table>\n",
       "</div>"
      ],
      "text/plain": [
       "                                              sentence     label\n",
       "154  \" If Google do not secure the content writer s...      Risk\n",
       "190  \" If customer is forced to keep Microsoft out ...      Risk\n",
       "114  \" If Google deploy the project late due to our...      Risk\n",
       "138  \" If they is forced to keep Microsoft out of t...      Risk\n",
       "67   \" Drew White decide to include an additional s...  Decision"
      ]
     },
     "execution_count": 6,
     "metadata": {},
     "output_type": "execute_result"
    }
   ],
   "source": [
    "#Loading data from local storage\n",
    "df = pd.read_csv(('data/text.csv'), index_col=False).sample(frac=1)\n",
    "df.head(5)"
   ]
  },
  {
   "cell_type": "code",
   "execution_count": 7,
   "metadata": {},
   "outputs": [],
   "source": [
    "#Splitting data into train and test data\n",
    "Train_X, Test_X, Train_Y, Test_Y = model_selection.train_test_split(df['sentence'],df['label'],test_size=0.3)"
   ]
  },
  {
   "cell_type": "code",
   "execution_count": 8,
   "metadata": {},
   "outputs": [
    {
     "name": "stdout",
     "output_type": "stream",
     "text": [
      "[0 0 2 2 0]\n"
     ]
    }
   ],
   "source": [
    "#Encoding the labels Decision, Action and Risk as 0, 1 and 2 numeric values respectively. \n",
    "Encoder = LabelEncoder()\n",
    "Train_Y = Encoder.fit_transform(Train_Y)\n",
    "Test_Y = Encoder.fit_transform(Test_Y)\n",
    "print(Train_Y[0:5])"
   ]
  },
  {
   "cell_type": "code",
   "execution_count": 9,
   "metadata": {},
   "outputs": [
    {
     "name": "stdout",
     "output_type": "stream",
     "text": [
      "{'if': 98, 'google': 86, 'do': 57, 'not': 146, 'secure': 179, 'the': 203, 'content': 40, 'writer': 227, 'spot': 188, 'during': 62, 'event': 71, 'due': 61, 'to': 209, 'lack': 114, 'of': 147, 'commitment': 34, 'from': 83, 'board': 22, 'then': 204, 'might': 130, 'need': 143, 'pay': 158, 'customers': 45, 'customer': 44, 'is': 107, 'forced': 80, 'keep': 113, 'microsoft': 129, 'out': 153, 'ai': 9, 'ecosystem': 64, 'our': 152, 'limited': 117, 'resources': 174, 'may': 126, 'loose': 120, 'supportive': 195, 'advantage': 6, 'deploy': 55, 'project': 169, 'late': 115, 'perfectionism': 159, 'could': 43, 'they': 206, 'hiring': 96, 'process': 167, 'can': 26, 'drew': 60, 'white': 220, 'decide': 49, 'include': 104, 'an': 10, 'additional': 5, 'set': 180, 'spare': 186, 'parts': 157, 'next': 145, 'system': 197, 'test': 201, 'we': 217, 'fear': 74, 'potential': 164, 'loss': 121, 'face': 72, 'higher': 94, 'prices': 166, 'purchase': 171, 'dan': 46, 'greenspan': 87, 'has': 91, 'be': 17, 'reminded': 173, 'mitigate': 133, 'risk': 175, 'factory': 73, 'blackout': 20, 'by': 25, 'taking': 199, 'backup': 16, 'generator': 84, 'on': 149, 'monday': 135, '27th': 1, 'march': 122, 'marie': 123, 'guerez': 89, 'schedule': 177, 'monthly': 138, 'meetings': 128, 'with': 223, 'entire': 68, 'consortium': 39, 'improve': 102, 'communications': 35, 'he': 92, 'coordination': 42, 'deliver': 53, 'time': 208, 'cannot': 28, 'videos': 214, 'within': 224, 'month': 137, 'cash': 30, 'flow': 77, 'fill': 75, 'his': 97, 'position': 162, 'for': 79, 'another': 12, 'year': 228, 'pete': 160, 'winston': 222, 'ensured': 67, 'change': 31, 'supplier': 192, 'engine': 66, 'flu': 78, 'supervision': 191, 'share': 181, 'any': 13, 'competition': 36, 'mary': 124, 'brown': 24, 'decided': 50, 'formalize': 82, 'partnership': 156, 'mont': 136, 'blanc': 21, 'sports': 187, 'will': 221, 'take': 198, 'care': 29, 'cancel': 27, 'contract': 41, 'development': 56, 'partner': 155, 'matthieu': 125, 'le': 116, 'bon': 23, 'usa': 213, 'new': 144, 'foreign': 81, 'policies': 161, 'would': 226, 'possibly': 163, 'important': 101, 'evan': 69, 'miles': 131, 'completes': 38, 'action': 4, 'mitt': 134, 'took': 210, 'decision': 51, 'water': 216, 'supply': 194, 'shut': 183, 'off': 148, 'complete': 37, 'images': 100, 'before': 18, 'augustcustomer': 15, 'shuts': 184, 'down': 59, 'agreed': 8, 'date': 47, 'work': 225, 'henk': 93, 'muller': 140, 'susan': 196, 'rogette': 176, 'release': 172, 'product': 168, 'line': 118, 'one': 150, 'earlier': 63, 'this': 207, 'week': 218, 'its': 109, 'own': 154, 'act': 3, 'skip': 185, 'presentation': 165, 'client': 33, 'and': 11, 'instead': 105, 'give': 85, 'live': 119, 'prototype': 170, 'demonstration': 54, 'after': 7, '1st': 0, 'june': 112, 'hans': 90, 'schmitt': 178, 'john': 111, 'doe': 58, 'she': 182, 'at': 14, 'start': 189, 'invest': 106, 'in': 103, 'mutualitics': 141, 'miss': 132, 'big': 19, 'opportunity': 151, 'hire': 95, 'until': 212, 'end': 65, 'tuesday': 211, 'evening': 70, '9pm': 2, 'delay': 52, 'mvp': 142, 'summer': 190, 'suppliers': 193, 'james': 110, 'ilan': 99, 'guenay': 88, 'chen': 32, 'wang': 215, 'team': 200, 'there': 205, 'more': 139, 'than': 202, 'five': 76, 'iterations': 108, 'david': 48, 'meeting': 127, 'were': 219}\n"
     ]
    }
   ],
   "source": [
    "#The Tfidf_vectorizer converts the dataset of sentences into vectorized inputs.\n",
    "Tfidf_vect = TfidfVectorizer(max_features=5000)\n",
    "Tfidf_vect.fit(df['sentence'])\n",
    "Train_X_Tfidf = Tfidf_vect.transform(Train_X)\n",
    "Test_X_Tfidf = Tfidf_vect.transform(Test_X)\n",
    "print(Tfidf_vect.vocabulary_)"
   ]
  },
  {
   "cell_type": "code",
   "execution_count": 10,
   "metadata": {},
   "outputs": [
    {
     "data": {
      "text/plain": [
       "SVC(C=1.0, cache_size=200, class_weight=None, coef0=0.0,\n",
       "    decision_function_shape='ovr', degree=3, gamma='auto_deprecated',\n",
       "    kernel='linear', max_iter=-1, probability=False, random_state=None,\n",
       "    shrinking=True, tol=0.001, verbose=False)"
      ]
     },
     "execution_count": 10,
     "metadata": {},
     "output_type": "execute_result"
    }
   ],
   "source": [
    "#SVM classifier is used as classification model\n",
    "#C is Regularization parameter that is multipled by sqaured L2 penalty and the result added to the cost function. Used default value here.\n",
    "SVM = svm.SVC(C=1.0, kernel='linear')\n",
    "SVM.fit(Train_X_Tfidf,Train_Y)"
   ]
  },
  {
   "cell_type": "code",
   "execution_count": 11,
   "metadata": {},
   "outputs": [],
   "source": [
    "# predict the labels on validation dataset\n",
    "predictions_SVM = SVM.predict(Test_X_Tfidf)"
   ]
  },
  {
   "cell_type": "code",
   "execution_count": 12,
   "metadata": {
    "scrolled": true
   },
   "outputs": [
    {
     "data": {
      "text/plain": [
       "array([[ 9,  0,  0],\n",
       "       [ 0, 17,  0],\n",
       "       [ 0,  0, 35]], dtype=int64)"
      ]
     },
     "execution_count": 12,
     "metadata": {},
     "output_type": "execute_result"
    }
   ],
   "source": [
    "confusion_matrix(Test_Y, predictions_SVM)"
   ]
  },
  {
   "cell_type": "code",
   "execution_count": 13,
   "metadata": {},
   "outputs": [
    {
     "name": "stdout",
     "output_type": "stream",
     "text": [
      "SVM Accuracy Score ->  100.0\n"
     ]
    }
   ],
   "source": [
    "# Use accuracy_score function to get the accuracy\n",
    "print(\"SVM Accuracy Score -> \",accuracy_score(predictions_SVM, Test_Y)*100)"
   ]
  },
  {
   "cell_type": "code",
   "execution_count": null,
   "metadata": {},
   "outputs": [],
   "source": []
  }
 ],
 "metadata": {
  "kernelspec": {
   "display_name": "Python 3",
   "language": "python",
   "name": "python3"
  },
  "language_info": {
   "codemirror_mode": {
    "name": "ipython",
    "version": 3
   },
   "file_extension": ".py",
   "mimetype": "text/x-python",
   "name": "python",
   "nbconvert_exporter": "python",
   "pygments_lexer": "ipython3",
   "version": "3.7.4"
  }
 },
 "nbformat": 4,
 "nbformat_minor": 2
}
