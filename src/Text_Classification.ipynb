{
 "cells": [
  {
   "cell_type": "code",
   "execution_count": 1,
   "metadata": {
    "scrolled": true
   },
   "outputs": [
    {
     "name": "stdout",
     "output_type": "stream",
     "text": [
      "[0 2 0 0 1]\n",
      "{'hans': 90, 'schmitt': 178, 'has': 91, 'to': 209, 'be': 17, 'reminded': 173, 'mitigate': 133, 'the': 203, 'risk': 175, 'of': 147, 'factory': 73, 'blackout': 20, 'by': 25, 'taking': 199, 'backup': 16, 'generator': 84, 'after': 7, 'monday': 135, 'next': 145, 'week': 218, 'ilan': 99, 'guenay': 88, 'took': 210, 'decision': 51, 'formalize': 82, 'our': 152, 'partnership': 156, 'with': 223, 'mont': 136, 'blanc': 21, 'sports': 187, 'if': 98, 'google': 86, 'do': 57, 'not': 146, 'secure': 179, 'content': 40, 'writer': 227, 'spot': 188, 'during': 62, 'event': 71, 'due': 61, 'lack': 114, 'commitment': 34, 'from': 83, 'board': 22, 'then': 204, 'might': 130, 'need': 143, 'pay': 158, 'customers': 45, 'matthieu': 125, 'le': 116, 'bon': 23, 'release': 172, 'new': 144, 'product': 168, 'line': 118, 'one': 150, 'month': 137, 'earlier': 63, 'they': 206, 'cannot': 28, 'deliver': 53, 'videos': 214, 'within': 224, 'his': 97, 'flu': 78, 'fill': 75, 'position': 162, 'for': 79, 'another': 12, 'year': 228, 'fear': 74, 'potential': 164, 'loss': 121, 'may': 126, 'work': 225, 'deploy': 55, 'project': 169, 'late': 115, 'evan': 69, 'miles': 131, 'there': 205, 'will': 221, 'more': 139, 'than': 202, 'five': 76, 'iterations': 108, 'on': 149, 'this': 207, 'she': 182, 'delay': 52, 'mvp': 142, 'summer': 190, 'usa': 213, 'foreign': 81, 'policies': 161, 'share': 181, 'any': 13, 'competition': 36, 'customer': 44, 'complete': 37, 'images': 100, 'before': 18, 'augustcustomer': 15, 'shuts': 184, 'down': 59, 'water': 216, 'supply': 194, 'agreed': 8, 'date': 47, 'coordination': 42, 'can': 26, 'face': 72, 'higher': 94, 'prices': 166, 'purchase': 171, 'drew': 60, 'white': 220, 'act': 3, 'perfectionism': 159, 'could': 43, 'loose': 120, 'supportive': 195, 'advantage': 6, 'hire': 95, 'john': 111, 'doe': 58, 'until': 212, 'end': 65, 'susan': 196, 'rogette': 176, 'decided': 50, 'chen': 32, 'wang': 215, 'dan': 46, 'greenspan': 87, 'include': 104, 'an': 10, 'additional': 5, 'set': 180, 'spare': 186, 'parts': 157, 'system': 197, 'test': 201, 'at': 14, 'start': 189, 'he': 92, 'limited': 117, 'resources': 174, 'miss': 132, 'big': 19, 'opportunity': 151, 'time': 208, 'cancel': 27, 'contract': 41, 'development': 56, 'partner': 155, 'suppliers': 193, 'would': 226, 'possibly': 163, 'invest': 106, 'in': 103, 'mutualitics': 141, 'completes': 38, 'action': 4, 'change': 31, 'supplier': 192, 'engine': 66, 'pete': 160, 'winston': 222, 'we': 217, 'is': 107, 'forced': 80, 'keep': 113, 'microsoft': 129, 'out': 153, 'ai': 9, 'ecosystem': 64, 'marie': 123, 'guerez': 89, 'decide': 49, 'schedule': 177, 'monthly': 138, 'meetings': 128, 'entire': 68, 'consortium': 39, 'improve': 102, 'communications': 35, 'team': 200, 'cash': 30, 'flow': 77, 'hiring': 96, 'process': 167, 'henk': 93, 'muller': 140, 'skip': 185, 'presentation': 165, 'client': 33, 'and': 11, 'instead': 105, 'give': 85, 'live': 119, 'prototype': 170, 'demonstration': 54, '1st': 0, 'june': 112, 'its': 109, 'own': 154, 'supervision': 191, 'ensured': 67, 'mary': 124, 'brown': 24, 'take': 198, 'care': 29, 'important': 101, 'tuesday': 211, 'evening': 70, '9pm': 2, '27th': 1, 'march': 122, 'shut': 183, 'off': 148, 'david': 48, 'mitt': 134, 'james': 110, 'meeting': 127, 'were': 219}\n"
     ]
    }
   ],
   "source": [
    "import pandas as pd\n",
    "import seaborn as sns\n",
    "import matplotlib.pyplot as plt\n",
    "from sklearn.feature_extraction.text import TfidfVectorizer\n",
    "from sklearn.linear_model import SGDClassifier\n",
    "from sklearn.pipeline import Pipeline\n",
    "from sklearn.metrics import confusion_matrix, classification_report, accuracy_score\n",
    "from sklearn import model_selection, svm, naive_bayes\n",
    "from sklearn.preprocessing import LabelEncoder\n",
    "\n",
    "#Loading data from local storage\n",
    "df = pd.read_csv(('data/text.csv'), index_col=False).sample(frac=1)\n",
    "df.head(5)\n",
    "\n",
    "#Splitting data into train and test data\n",
    "Train_X, Test_X, Train_Y, Test_Y = model_selection.train_test_split(df['sentence'],df['label'],test_size=0.3)\n",
    "\n",
    "#Encoding the labels Decision, Action and Risk as 0, 1 and 2 numeric values respectively. \n",
    "Encoder = LabelEncoder()\n",
    "Train_Y = Encoder.fit_transform(Train_Y)\n",
    "Test_Y = Encoder.fit_transform(Test_Y)\n",
    "print(Train_Y[0:5])\n",
    "\n",
    "#The Tfidf_vectorizer converts the dataset of sentences into vectorized inputs.\n",
    "Tfidf_vect = TfidfVectorizer(max_features=5000)\n",
    "Tfidf_vect.fit(df['sentence'])\n",
    "Train_X_Tfidf = Tfidf_vect.transform(Train_X)\n",
    "Test_X_Tfidf = Tfidf_vect.transform(Test_X)\n",
    "print(Tfidf_vect.vocabulary_)"
   ]
  },
  {
   "cell_type": "code",
   "execution_count": 2,
   "metadata": {},
   "outputs": [],
   "source": [
    "#model_name is the classification model that is selected\n",
    "def model(model_name,Train_X_Tfidf,Test_X_Tfidf,Train_Y):\n",
    "    \n",
    "    model_name.fit(Train_X_Tfidf,Train_Y)\n",
    "    predictions= model_name.predict(Test_X_Tfidf)\n",
    "    return predictions;"
   ]
  },
  {
   "cell_type": "code",
   "execution_count": 3,
   "metadata": {},
   "outputs": [],
   "source": [
    "def evaluation(predictions,Test_Y):\n",
    "    \n",
    "    #To plot the confusion matrix\n",
    "    evaluation_matrix = confusion_matrix(Test_Y, predictions)\n",
    "    \n",
    "    df_plot = pd.DataFrame(evaluation_matrix, index=['Action','Decision','Risk'], columns=['Action','Decision','Risk'])\n",
    "    sns.heatmap(df_plot, annot=True)\n",
    "    \n",
    "    # Using accuracy_score function to get the accuracy\n",
    "    print(\"Accuracy Score -> \",accuracy_score(predictions, Test_Y)*100)\n",
    "    \n",
    "    #Classification report for F1_score and precision\n",
    "    print(classification_report(predictions, Test_Y))\n",
    "    \n",
    "    return;"
   ]
  },
  {
   "cell_type": "code",
   "execution_count": 4,
   "metadata": {},
   "outputs": [
    {
     "name": "stdout",
     "output_type": "stream",
     "text": [
      "Accuracy Score ->  95.08196721311475\n",
      "              precision    recall  f1-score   support\n",
      "\n",
      "           0       1.00      0.81      0.90        16\n",
      "           1       0.84      1.00      0.91        16\n",
      "           2       1.00      1.00      1.00        29\n",
      "\n",
      "    accuracy                           0.95        61\n",
      "   macro avg       0.95      0.94      0.94        61\n",
      "weighted avg       0.96      0.95      0.95        61\n",
      "\n"
     ]
    },
    {
     "data": {
      "image/png": "[encoded data removed]",
      "text/plain": [
       "<Figure size 432x288 with 2 Axes>"
      ]
     },
     "metadata": {
      "needs_background": "light"
     },
     "output_type": "display_data"
    }
   ],
   "source": [
    "SVM_Classifier = svm.SVC(C=1.0, kernel='linear') #C is Regularization parameter that is multipled by sqaured L2 penalty and the result added to the cost function. Used default value here.\n",
    "\n",
    "#first parameter of the model function (model_name) is the classifier to be selected\n",
    "model_predictions = model(SVM_Classifier,Train_X_Tfidf,Test_X_Tfidf,Train_Y)\n",
    "evaluation(model_predictions,Test_Y)"
   ]
  },
  {
   "cell_type": "code",
   "execution_count": 5,
   "metadata": {},
   "outputs": [
    {
     "name": "stdout",
     "output_type": "stream",
     "text": [
      "Accuracy Score ->  98.36065573770492\n",
      "              precision    recall  f1-score   support\n",
      "\n",
      "           0       1.00      0.93      0.96        14\n",
      "           1       0.95      1.00      0.97        18\n",
      "           2       1.00      1.00      1.00        29\n",
      "\n",
      "    accuracy                           0.98        61\n",
      "   macro avg       0.98      0.98      0.98        61\n",
      "weighted avg       0.98      0.98      0.98        61\n",
      "\n"
     ]
    },
    {
     "data": {
      "image/png": "[encoded data removed]",
      "text/plain": [
       "<Figure size 432x288 with 2 Axes>"
      ]
     },
     "metadata": {
      "needs_background": "light"
     },
     "output_type": "display_data"
    }
   ],
   "source": [
    "SGD_Classifier = SGDClassifier()\n",
    "model_predictions = model(SGD_Classifier,Train_X_Tfidf,Test_X_Tfidf,Train_Y)\n",
    "evaluation(model_predictions,Test_Y)"
   ]
  },
  {
   "cell_type": "code",
   "execution_count": 6,
   "metadata": {},
   "outputs": [
    {
     "name": "stdout",
     "output_type": "stream",
     "text": [
      "Accuracy Score ->  88.52459016393442\n",
      "              precision    recall  f1-score   support\n",
      "\n",
      "           0       1.00      0.65      0.79        20\n",
      "           1       0.63      1.00      0.77        12\n",
      "           2       1.00      1.00      1.00        29\n",
      "\n",
      "    accuracy                           0.89        61\n",
      "   macro avg       0.88      0.88      0.85        61\n",
      "weighted avg       0.93      0.89      0.89        61\n",
      "\n"
     ]
    },
    {
     "data": {
      "image/png": "[encoded data removed]",
      "text/plain": [
       "<Figure size 432x288 with 2 Axes>"
      ]
     },
     "metadata": {
      "needs_background": "light"
     },
     "output_type": "display_data"
    }
   ],
   "source": [
    "NB_Gaussian_Classifier = naive_bayes.MultinomialNB()\n",
    "model_predictions = model(NB_Gaussian_Classifier,Train_X_Tfidf,Test_X_Tfidf,Train_Y)\n",
    "evaluation(model_predictions,Test_Y)"
   ]
  },
  {
   "cell_type": "markdown",
   "metadata": {},
   "source": [
    "From the comparisons between Support Vector Machines, Stochastic Gradient Descent and MultinomialNB naive_bayes, it was observed that though Naïve Bayes is a great machine learning model for text data, SGD and LSVM have better accuracy for our dataset. It can be concluded that the Stochastic Gradient Descent is the best fit for our dataset as it has better F1 score and lower false predictions compared to Support Vector Machines."
   ]
  }
 ],
 "metadata": {
  "kernelspec": {
   "display_name": "Python 3",
   "language": "python",
   "name": "python3"
  },
  "language_info": {
   "codemirror_mode": {
    "name": "ipython",
    "version": 3
   },
   "file_extension": ".py",
   "mimetype": "text/x-python",
   "name": "python",
   "nbconvert_exporter": "python",
   "pygments_lexer": "ipython3",
   "version": "3.7.4"
  }
 },
 "nbformat": 4,
 "nbformat_minor": 2
}
